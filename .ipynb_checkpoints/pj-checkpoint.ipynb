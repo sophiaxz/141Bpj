{
 "cells": [
  {
   "cell_type": "markdown",
   "id": "56199ca9-bd68-4f37-b976-123623da681c",
   "metadata": {},
   "source": [
    "#号后面的东西不一定有用但是先不要删."
   ]
  },
  {
   "cell_type": "code",
   "execution_count": 1,
   "id": "b6cca368-36f1-45a0-b9d4-0534320fb882",
   "metadata": {},
   "outputs": [],
   "source": [
    "# import urllib.request, urllib.parse, urllib.error\n",
    "# import lxml\n",
    "# from collections import Counter\n",
    "# from matplotlib import pyplot as plt\n",
    "# import xml.etree.ElementTree as ET\n",
    "# import ssl\n",
    "import requests\n",
    "from bs4 import BeautifulSoup\n",
    "import pandas as pd\n",
    "import json,sys\n",
    "import re"
   ]
  },
  {
   "cell_type": "code",
   "execution_count": 2,
   "id": "96a1cdb0-e6f5-4be9-b762-38763d9d543c",
   "metadata": {},
   "outputs": [],
   "source": [
    "url = 'https://datahub.io/core/covid-19#data-cli'\n",
    "html_text = requests.get(url).text\n",
    "soup = BeautifulSoup(html_text, 'html.parser')\n"
   ]
  },
  {
   "cell_type": "code",
   "execution_count": 4,
   "id": "fabe8c2d-eee9-429e-93fd-4189dd985240",
   "metadata": {},
   "outputs": [],
   "source": [
    "html = []\n",
    "df = {}\n",
    "count = 1\n",
    "for link in soup.find_all('a'):\n",
    "    str_link = str(link.get('href'))\n",
    "    \n",
    "    if str_link.startswith('/core/covid-19/r/') and re.search('json$',str_link):\n",
    "        html.append('https://datahub.io' + str_link)\n",
    "        js = requests.get('https://datahub.io' + str_link).json() \n",
    "        df[count] =  pd.DataFrame(js)\n",
    "        count += 1\n"
   ]
  },
  {
   "cell_type": "code",
   "execution_count": 5,
   "id": "d1266c66-a43c-4b19-b7a3-018a30fc2c50",
   "metadata": {},
   "outputs": [
    {
     "data": {
      "text/plain": [
       "['https://datahub.io/core/covid-19/r/countries-aggregated.json',\n",
       " 'https://datahub.io/core/covid-19/r/key-countries-pivoted.json',\n",
       " 'https://datahub.io/core/covid-19/r/reference.json',\n",
       " 'https://datahub.io/core/covid-19/r/time-series-19-covid-combined.json',\n",
       " 'https://datahub.io/core/covid-19/r/us_confirmed.json',\n",
       " 'https://datahub.io/core/covid-19/r/us_deaths.json',\n",
       " 'https://datahub.io/core/covid-19/r/us_simplified.json',\n",
       " 'https://datahub.io/core/covid-19/r/worldwide-aggregate.json']"
      ]
     },
     "execution_count": 5,
     "metadata": {},
     "output_type": "execute_result"
    }
   ],
   "source": [
    "html # so we have total 8 dataframe with using under data"
   ]
  },
  {
   "cell_type": "code",
   "execution_count": 6,
   "id": "a57ee8a6-06ac-4213-a6cf-6125792b8558",
   "metadata": {},
   "outputs": [
    {
     "data": {
      "text/html": [
       "<div>\n",
       "<style scoped>\n",
       "    .dataframe tbody tr th:only-of-type {\n",
       "        vertical-align: middle;\n",
       "    }\n",
       "\n",
       "    .dataframe tbody tr th {\n",
       "        vertical-align: top;\n",
       "    }\n",
       "\n",
       "    .dataframe thead th {\n",
       "        text-align: right;\n",
       "    }\n",
       "</style>\n",
       "<table border=\"1\" class=\"dataframe\">\n",
       "  <thead>\n",
       "    <tr style=\"text-align: right;\">\n",
       "      <th></th>\n",
       "      <th>Confirmed</th>\n",
       "      <th>Country</th>\n",
       "      <th>Date</th>\n",
       "      <th>Deaths</th>\n",
       "      <th>Recovered</th>\n",
       "    </tr>\n",
       "  </thead>\n",
       "  <tbody>\n",
       "    <tr>\n",
       "      <th>0</th>\n",
       "      <td>0</td>\n",
       "      <td>Afghanistan</td>\n",
       "      <td>2020-01-22</td>\n",
       "      <td>0</td>\n",
       "      <td>0</td>\n",
       "    </tr>\n",
       "    <tr>\n",
       "      <th>1</th>\n",
       "      <td>0</td>\n",
       "      <td>Afghanistan</td>\n",
       "      <td>2020-01-23</td>\n",
       "      <td>0</td>\n",
       "      <td>0</td>\n",
       "    </tr>\n",
       "    <tr>\n",
       "      <th>2</th>\n",
       "      <td>0</td>\n",
       "      <td>Afghanistan</td>\n",
       "      <td>2020-01-24</td>\n",
       "      <td>0</td>\n",
       "      <td>0</td>\n",
       "    </tr>\n",
       "    <tr>\n",
       "      <th>3</th>\n",
       "      <td>0</td>\n",
       "      <td>Afghanistan</td>\n",
       "      <td>2020-01-25</td>\n",
       "      <td>0</td>\n",
       "      <td>0</td>\n",
       "    </tr>\n",
       "    <tr>\n",
       "      <th>4</th>\n",
       "      <td>0</td>\n",
       "      <td>Afghanistan</td>\n",
       "      <td>2020-01-26</td>\n",
       "      <td>0</td>\n",
       "      <td>0</td>\n",
       "    </tr>\n",
       "    <tr>\n",
       "      <th>...</th>\n",
       "      <td>...</td>\n",
       "      <td>...</td>\n",
       "      <td>...</td>\n",
       "      <td>...</td>\n",
       "      <td>...</td>\n",
       "    </tr>\n",
       "    <tr>\n",
       "      <th>131707</th>\n",
       "      <td>133593</td>\n",
       "      <td>Zimbabwe</td>\n",
       "      <td>2021-11-19</td>\n",
       "      <td>4699</td>\n",
       "      <td>0</td>\n",
       "    </tr>\n",
       "    <tr>\n",
       "      <th>131708</th>\n",
       "      <td>133615</td>\n",
       "      <td>Zimbabwe</td>\n",
       "      <td>2021-11-20</td>\n",
       "      <td>4699</td>\n",
       "      <td>0</td>\n",
       "    </tr>\n",
       "    <tr>\n",
       "      <th>131709</th>\n",
       "      <td>133647</td>\n",
       "      <td>Zimbabwe</td>\n",
       "      <td>2021-11-21</td>\n",
       "      <td>4699</td>\n",
       "      <td>0</td>\n",
       "    </tr>\n",
       "    <tr>\n",
       "      <th>131710</th>\n",
       "      <td>133674</td>\n",
       "      <td>Zimbabwe</td>\n",
       "      <td>2021-11-22</td>\n",
       "      <td>4699</td>\n",
       "      <td>0</td>\n",
       "    </tr>\n",
       "    <tr>\n",
       "      <th>131711</th>\n",
       "      <td>133674</td>\n",
       "      <td>Zimbabwe</td>\n",
       "      <td>2021-11-23</td>\n",
       "      <td>4699</td>\n",
       "      <td>0</td>\n",
       "    </tr>\n",
       "  </tbody>\n",
       "</table>\n",
       "<p>131712 rows × 5 columns</p>\n",
       "</div>"
      ],
      "text/plain": [
       "        Confirmed      Country        Date  Deaths  Recovered\n",
       "0               0  Afghanistan  2020-01-22       0          0\n",
       "1               0  Afghanistan  2020-01-23       0          0\n",
       "2               0  Afghanistan  2020-01-24       0          0\n",
       "3               0  Afghanistan  2020-01-25       0          0\n",
       "4               0  Afghanistan  2020-01-26       0          0\n",
       "...           ...          ...         ...     ...        ...\n",
       "131707     133593     Zimbabwe  2021-11-19    4699          0\n",
       "131708     133615     Zimbabwe  2021-11-20    4699          0\n",
       "131709     133647     Zimbabwe  2021-11-21    4699          0\n",
       "131710     133674     Zimbabwe  2021-11-22    4699          0\n",
       "131711     133674     Zimbabwe  2021-11-23    4699          0\n",
       "\n",
       "[131712 rows x 5 columns]"
      ]
     },
     "execution_count": 6,
     "metadata": {},
     "output_type": "execute_result"
    }
   ],
   "source": [
    "df[1] # example: the 1st table"
   ]
  },
  {
   "cell_type": "code",
   "execution_count": null,
   "id": "44a1e309-470b-42ad-8c88-0df54b622cbb",
   "metadata": {},
   "outputs": [],
   "source": []
  }
 ],
 "metadata": {
  "kernelspec": {
   "display_name": "Python 3",
   "language": "python",
   "name": "python3"
  },
  "language_info": {
   "codemirror_mode": {
    "name": "ipython",
    "version": 3
   },
   "file_extension": ".py",
   "mimetype": "text/x-python",
   "name": "python",
   "nbconvert_exporter": "python",
   "pygments_lexer": "ipython3",
   "version": "3.8.8"
  }
 },
 "nbformat": 4,
 "nbformat_minor": 5
}
