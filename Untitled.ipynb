{
 "cells": [
  {
   "cell_type": "markdown",
   "id": "56199ca9-bd68-4f37-b976-123623da681c",
   "metadata": {},
   "source": [
    "#号后面的东西不一定有用但是先不要删."
   ]
  },
  {
   "cell_type": "code",
   "execution_count": 10,
   "id": "b6cca368-36f1-45a0-b9d4-0534320fb882",
   "metadata": {},
   "outputs": [],
   "source": [
    "# import urllib.request, urllib.parse, urllib.error\n",
    "# import lxml\n",
    "# from collections import Counter\n",
    "# from matplotlib import pyplot as plt\n",
    "# import xml.etree.ElementTree as ET\n",
    "# import ssl\n",
    "import requests\n",
    "from bs4 import BeautifulSoup\n",
    "import pandas as pd\n",
    "import json,sys\n",
    "import re"
   ]
  },
  {
   "cell_type": "code",
   "execution_count": 36,
   "id": "96a1cdb0-e6f5-4be9-b762-38763d9d543c",
   "metadata": {},
   "outputs": [],
   "source": [
    "url = 'https://datahub.io/core/covid-19#data-cli'\n",
    "html_text = requests.get(url).text\n",
    "soup = BeautifulSoup(html_text, 'html.parser')\n",
    "\n",
    "# randomparms = {'class':'download truncate col-xs-4'}\n",
    "# randreq = requests.get(url,params = randomparms)\n",
    "# randreq.url\n",
    "\n",
    "# resp = requests.get('https://datahub.io/core/covid-19/r/countries-aggregated.json').json()"
   ]
  },
  {
   "cell_type": "code",
   "execution_count": 60,
   "id": "fabe8c2d-eee9-429e-93fd-4189dd985240",
   "metadata": {},
   "outputs": [],
   "source": [
    "html = []\n",
    "for link in soup.find_all('a'):\n",
    "    str_link = str(link.get('href'))\n",
    "\n",
    "    if str_link.startswith('/core/covid-19/r/') and re.search('json$',str_link):\n",
    "        html.append('https://datahub.io/' + str_link)\n"
   ]
  },
  {
   "cell_type": "code",
   "execution_count": 61,
   "id": "d1266c66-a43c-4b19-b7a3-018a30fc2c50",
   "metadata": {},
   "outputs": [
    {
     "data": {
      "text/plain": [
       "['https://datahub.io//core/covid-19/r/countries-aggregated.json',\n",
       " 'https://datahub.io//core/covid-19/r/key-countries-pivoted.json',\n",
       " 'https://datahub.io//core/covid-19/r/reference.json',\n",
       " 'https://datahub.io//core/covid-19/r/time-series-19-covid-combined.json',\n",
       " 'https://datahub.io//core/covid-19/r/us_confirmed.json',\n",
       " 'https://datahub.io//core/covid-19/r/us_deaths.json',\n",
       " 'https://datahub.io//core/covid-19/r/us_simplified.json',\n",
       " 'https://datahub.io//core/covid-19/r/worldwide-aggregate.json']"
      ]
     },
     "execution_count": 61,
     "metadata": {},
     "output_type": "execute_result"
    }
   ],
   "source": [
    "html"
   ]
  },
  {
   "cell_type": "code",
   "execution_count": null,
   "id": "a57ee8a6-06ac-4213-a6cf-6125792b8558",
   "metadata": {},
   "outputs": [],
   "source": []
  },
  {
   "cell_type": "code",
   "execution_count": null,
   "id": "44a1e309-470b-42ad-8c88-0df54b622cbb",
   "metadata": {},
   "outputs": [],
   "source": []
  }
 ],
 "metadata": {
  "kernelspec": {
   "display_name": "Python 3",
   "language": "python",
   "name": "python3"
  },
  "language_info": {
   "codemirror_mode": {
    "name": "ipython",
    "version": 3
   },
   "file_extension": ".py",
   "mimetype": "text/x-python",
   "name": "python",
   "nbconvert_exporter": "python",
   "pygments_lexer": "ipython3",
   "version": "3.8.8"
  }
 },
 "nbformat": 4,
 "nbformat_minor": 5
}
